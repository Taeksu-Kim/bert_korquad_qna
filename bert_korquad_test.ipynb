{
  "nbformat": 4,
  "nbformat_minor": 0,
  "metadata": {
    "colab": {
      "name": "bert_korquad_test",
      "provenance": [],
      "collapsed_sections": []
    },
    "kernelspec": {
      "name": "python3",
      "display_name": "Python 3"
    },
    "language_info": {
      "name": "python"
    },
    "widgets": {
      "application/vnd.jupyter.widget-state+json": {
        "ea9915a74fb54c1da5f02ea050a3635f": {
          "model_module": "@jupyter-widgets/controls",
          "model_name": "HBoxModel",
          "state": {
            "_view_name": "HBoxView",
            "_dom_classes": [],
            "_model_name": "HBoxModel",
            "_view_module": "@jupyter-widgets/controls",
            "_model_module_version": "1.5.0",
            "_view_count": null,
            "_view_module_version": "1.5.0",
            "box_style": "",
            "layout": "IPY_MODEL_1fe8670fb99e48f299766b42ce483105",
            "_model_module": "@jupyter-widgets/controls",
            "children": [
              "IPY_MODEL_c7c46f9b27324f9ca5f58ca6aa4828ff",
              "IPY_MODEL_2ba685680751443bb675fe0395154519"
            ]
          }
        },
        "1fe8670fb99e48f299766b42ce483105": {
          "model_module": "@jupyter-widgets/base",
          "model_name": "LayoutModel",
          "state": {
            "_view_name": "LayoutView",
            "grid_template_rows": null,
            "right": null,
            "justify_content": null,
            "_view_module": "@jupyter-widgets/base",
            "overflow": null,
            "_model_module_version": "1.2.0",
            "_view_count": null,
            "flex_flow": null,
            "width": null,
            "min_width": null,
            "border": null,
            "align_items": null,
            "bottom": null,
            "_model_module": "@jupyter-widgets/base",
            "top": null,
            "grid_column": null,
            "overflow_y": null,
            "overflow_x": null,
            "grid_auto_flow": null,
            "grid_area": null,
            "grid_template_columns": null,
            "flex": null,
            "_model_name": "LayoutModel",
            "justify_items": null,
            "grid_row": null,
            "max_height": null,
            "align_content": null,
            "visibility": null,
            "align_self": null,
            "height": null,
            "min_height": null,
            "padding": null,
            "grid_auto_rows": null,
            "grid_gap": null,
            "max_width": null,
            "order": null,
            "_view_module_version": "1.2.0",
            "grid_template_areas": null,
            "object_position": null,
            "object_fit": null,
            "grid_auto_columns": null,
            "margin": null,
            "display": null,
            "left": null
          }
        },
        "c7c46f9b27324f9ca5f58ca6aa4828ff": {
          "model_module": "@jupyter-widgets/controls",
          "model_name": "FloatProgressModel",
          "state": {
            "_view_name": "ProgressView",
            "style": "IPY_MODEL_2bde8f54ff7e49aebee153eb8ec7671d",
            "_dom_classes": [],
            "description": "Downloading: 100%",
            "_model_name": "FloatProgressModel",
            "bar_style": "success",
            "max": 995526,
            "_view_module": "@jupyter-widgets/controls",
            "_model_module_version": "1.5.0",
            "value": 995526,
            "_view_count": null,
            "_view_module_version": "1.5.0",
            "orientation": "horizontal",
            "min": 0,
            "description_tooltip": null,
            "_model_module": "@jupyter-widgets/controls",
            "layout": "IPY_MODEL_a458fad7de654d68a1f119ae2b4cdc40"
          }
        },
        "2ba685680751443bb675fe0395154519": {
          "model_module": "@jupyter-widgets/controls",
          "model_name": "HTMLModel",
          "state": {
            "_view_name": "HTMLView",
            "style": "IPY_MODEL_6fb8fd3987d04603b9bde4e4249952fb",
            "_dom_classes": [],
            "description": "",
            "_model_name": "HTMLModel",
            "placeholder": "​",
            "_view_module": "@jupyter-widgets/controls",
            "_model_module_version": "1.5.0",
            "value": " 996k/996k [00:02&lt;00:00, 492kB/s]",
            "_view_count": null,
            "_view_module_version": "1.5.0",
            "description_tooltip": null,
            "_model_module": "@jupyter-widgets/controls",
            "layout": "IPY_MODEL_5494a8ef580e4491b2525cd13c7f72f3"
          }
        },
        "2bde8f54ff7e49aebee153eb8ec7671d": {
          "model_module": "@jupyter-widgets/controls",
          "model_name": "ProgressStyleModel",
          "state": {
            "_view_name": "StyleView",
            "_model_name": "ProgressStyleModel",
            "description_width": "initial",
            "_view_module": "@jupyter-widgets/base",
            "_model_module_version": "1.5.0",
            "_view_count": null,
            "_view_module_version": "1.2.0",
            "bar_color": null,
            "_model_module": "@jupyter-widgets/controls"
          }
        },
        "a458fad7de654d68a1f119ae2b4cdc40": {
          "model_module": "@jupyter-widgets/base",
          "model_name": "LayoutModel",
          "state": {
            "_view_name": "LayoutView",
            "grid_template_rows": null,
            "right": null,
            "justify_content": null,
            "_view_module": "@jupyter-widgets/base",
            "overflow": null,
            "_model_module_version": "1.2.0",
            "_view_count": null,
            "flex_flow": null,
            "width": null,
            "min_width": null,
            "border": null,
            "align_items": null,
            "bottom": null,
            "_model_module": "@jupyter-widgets/base",
            "top": null,
            "grid_column": null,
            "overflow_y": null,
            "overflow_x": null,
            "grid_auto_flow": null,
            "grid_area": null,
            "grid_template_columns": null,
            "flex": null,
            "_model_name": "LayoutModel",
            "justify_items": null,
            "grid_row": null,
            "max_height": null,
            "align_content": null,
            "visibility": null,
            "align_self": null,
            "height": null,
            "min_height": null,
            "padding": null,
            "grid_auto_rows": null,
            "grid_gap": null,
            "max_width": null,
            "order": null,
            "_view_module_version": "1.2.0",
            "grid_template_areas": null,
            "object_position": null,
            "object_fit": null,
            "grid_auto_columns": null,
            "margin": null,
            "display": null,
            "left": null
          }
        },
        "6fb8fd3987d04603b9bde4e4249952fb": {
          "model_module": "@jupyter-widgets/controls",
          "model_name": "DescriptionStyleModel",
          "state": {
            "_view_name": "StyleView",
            "_model_name": "DescriptionStyleModel",
            "description_width": "",
            "_view_module": "@jupyter-widgets/base",
            "_model_module_version": "1.5.0",
            "_view_count": null,
            "_view_module_version": "1.2.0",
            "_model_module": "@jupyter-widgets/controls"
          }
        },
        "5494a8ef580e4491b2525cd13c7f72f3": {
          "model_module": "@jupyter-widgets/base",
          "model_name": "LayoutModel",
          "state": {
            "_view_name": "LayoutView",
            "grid_template_rows": null,
            "right": null,
            "justify_content": null,
            "_view_module": "@jupyter-widgets/base",
            "overflow": null,
            "_model_module_version": "1.2.0",
            "_view_count": null,
            "flex_flow": null,
            "width": null,
            "min_width": null,
            "border": null,
            "align_items": null,
            "bottom": null,
            "_model_module": "@jupyter-widgets/base",
            "top": null,
            "grid_column": null,
            "overflow_y": null,
            "overflow_x": null,
            "grid_auto_flow": null,
            "grid_area": null,
            "grid_template_columns": null,
            "flex": null,
            "_model_name": "LayoutModel",
            "justify_items": null,
            "grid_row": null,
            "max_height": null,
            "align_content": null,
            "visibility": null,
            "align_self": null,
            "height": null,
            "min_height": null,
            "padding": null,
            "grid_auto_rows": null,
            "grid_gap": null,
            "max_width": null,
            "order": null,
            "_view_module_version": "1.2.0",
            "grid_template_areas": null,
            "object_position": null,
            "object_fit": null,
            "grid_auto_columns": null,
            "margin": null,
            "display": null,
            "left": null
          }
        },
        "5cd1446ede504aae90ee16c91018cada": {
          "model_module": "@jupyter-widgets/controls",
          "model_name": "HBoxModel",
          "state": {
            "_view_name": "HBoxView",
            "_dom_classes": [],
            "_model_name": "HBoxModel",
            "_view_module": "@jupyter-widgets/controls",
            "_model_module_version": "1.5.0",
            "_view_count": null,
            "_view_module_version": "1.5.0",
            "box_style": "",
            "layout": "IPY_MODEL_48d0af315b714c1baeeb257337120663",
            "_model_module": "@jupyter-widgets/controls",
            "children": [
              "IPY_MODEL_94dc43adee58438988896b0c493d4d51",
              "IPY_MODEL_27b7f415a123405da1b392155bfabeee"
            ]
          }
        },
        "48d0af315b714c1baeeb257337120663": {
          "model_module": "@jupyter-widgets/base",
          "model_name": "LayoutModel",
          "state": {
            "_view_name": "LayoutView",
            "grid_template_rows": null,
            "right": null,
            "justify_content": null,
            "_view_module": "@jupyter-widgets/base",
            "overflow": null,
            "_model_module_version": "1.2.0",
            "_view_count": null,
            "flex_flow": null,
            "width": null,
            "min_width": null,
            "border": null,
            "align_items": null,
            "bottom": null,
            "_model_module": "@jupyter-widgets/base",
            "top": null,
            "grid_column": null,
            "overflow_y": null,
            "overflow_x": null,
            "grid_auto_flow": null,
            "grid_area": null,
            "grid_template_columns": null,
            "flex": null,
            "_model_name": "LayoutModel",
            "justify_items": null,
            "grid_row": null,
            "max_height": null,
            "align_content": null,
            "visibility": null,
            "align_self": null,
            "height": null,
            "min_height": null,
            "padding": null,
            "grid_auto_rows": null,
            "grid_gap": null,
            "max_width": null,
            "order": null,
            "_view_module_version": "1.2.0",
            "grid_template_areas": null,
            "object_position": null,
            "object_fit": null,
            "grid_auto_columns": null,
            "margin": null,
            "display": null,
            "left": null
          }
        },
        "94dc43adee58438988896b0c493d4d51": {
          "model_module": "@jupyter-widgets/controls",
          "model_name": "FloatProgressModel",
          "state": {
            "_view_name": "ProgressView",
            "style": "IPY_MODEL_00466b9632a34cc09b36b7620fbafb18",
            "_dom_classes": [],
            "description": "Downloading: 100%",
            "_model_name": "FloatProgressModel",
            "bar_style": "success",
            "max": 29,
            "_view_module": "@jupyter-widgets/controls",
            "_model_module_version": "1.5.0",
            "value": 29,
            "_view_count": null,
            "_view_module_version": "1.5.0",
            "orientation": "horizontal",
            "min": 0,
            "description_tooltip": null,
            "_model_module": "@jupyter-widgets/controls",
            "layout": "IPY_MODEL_fe9b876dadd2474b963d4e6e0ada8707"
          }
        },
        "27b7f415a123405da1b392155bfabeee": {
          "model_module": "@jupyter-widgets/controls",
          "model_name": "HTMLModel",
          "state": {
            "_view_name": "HTMLView",
            "style": "IPY_MODEL_ba7981b0a0434a02b4b63c2db5d09c24",
            "_dom_classes": [],
            "description": "",
            "_model_name": "HTMLModel",
            "placeholder": "​",
            "_view_module": "@jupyter-widgets/controls",
            "_model_module_version": "1.5.0",
            "value": " 29.0/29.0 [00:00&lt;00:00, 36.2B/s]",
            "_view_count": null,
            "_view_module_version": "1.5.0",
            "description_tooltip": null,
            "_model_module": "@jupyter-widgets/controls",
            "layout": "IPY_MODEL_a681c212b7104c57b923d9f49bc60d94"
          }
        },
        "00466b9632a34cc09b36b7620fbafb18": {
          "model_module": "@jupyter-widgets/controls",
          "model_name": "ProgressStyleModel",
          "state": {
            "_view_name": "StyleView",
            "_model_name": "ProgressStyleModel",
            "description_width": "initial",
            "_view_module": "@jupyter-widgets/base",
            "_model_module_version": "1.5.0",
            "_view_count": null,
            "_view_module_version": "1.2.0",
            "bar_color": null,
            "_model_module": "@jupyter-widgets/controls"
          }
        },
        "fe9b876dadd2474b963d4e6e0ada8707": {
          "model_module": "@jupyter-widgets/base",
          "model_name": "LayoutModel",
          "state": {
            "_view_name": "LayoutView",
            "grid_template_rows": null,
            "right": null,
            "justify_content": null,
            "_view_module": "@jupyter-widgets/base",
            "overflow": null,
            "_model_module_version": "1.2.0",
            "_view_count": null,
            "flex_flow": null,
            "width": null,
            "min_width": null,
            "border": null,
            "align_items": null,
            "bottom": null,
            "_model_module": "@jupyter-widgets/base",
            "top": null,
            "grid_column": null,
            "overflow_y": null,
            "overflow_x": null,
            "grid_auto_flow": null,
            "grid_area": null,
            "grid_template_columns": null,
            "flex": null,
            "_model_name": "LayoutModel",
            "justify_items": null,
            "grid_row": null,
            "max_height": null,
            "align_content": null,
            "visibility": null,
            "align_self": null,
            "height": null,
            "min_height": null,
            "padding": null,
            "grid_auto_rows": null,
            "grid_gap": null,
            "max_width": null,
            "order": null,
            "_view_module_version": "1.2.0",
            "grid_template_areas": null,
            "object_position": null,
            "object_fit": null,
            "grid_auto_columns": null,
            "margin": null,
            "display": null,
            "left": null
          }
        },
        "ba7981b0a0434a02b4b63c2db5d09c24": {
          "model_module": "@jupyter-widgets/controls",
          "model_name": "DescriptionStyleModel",
          "state": {
            "_view_name": "StyleView",
            "_model_name": "DescriptionStyleModel",
            "description_width": "",
            "_view_module": "@jupyter-widgets/base",
            "_model_module_version": "1.5.0",
            "_view_count": null,
            "_view_module_version": "1.2.0",
            "_model_module": "@jupyter-widgets/controls"
          }
        },
        "a681c212b7104c57b923d9f49bc60d94": {
          "model_module": "@jupyter-widgets/base",
          "model_name": "LayoutModel",
          "state": {
            "_view_name": "LayoutView",
            "grid_template_rows": null,
            "right": null,
            "justify_content": null,
            "_view_module": "@jupyter-widgets/base",
            "overflow": null,
            "_model_module_version": "1.2.0",
            "_view_count": null,
            "flex_flow": null,
            "width": null,
            "min_width": null,
            "border": null,
            "align_items": null,
            "bottom": null,
            "_model_module": "@jupyter-widgets/base",
            "top": null,
            "grid_column": null,
            "overflow_y": null,
            "overflow_x": null,
            "grid_auto_flow": null,
            "grid_area": null,
            "grid_template_columns": null,
            "flex": null,
            "_model_name": "LayoutModel",
            "justify_items": null,
            "grid_row": null,
            "max_height": null,
            "align_content": null,
            "visibility": null,
            "align_self": null,
            "height": null,
            "min_height": null,
            "padding": null,
            "grid_auto_rows": null,
            "grid_gap": null,
            "max_width": null,
            "order": null,
            "_view_module_version": "1.2.0",
            "grid_template_areas": null,
            "object_position": null,
            "object_fit": null,
            "grid_auto_columns": null,
            "margin": null,
            "display": null,
            "left": null
          }
        },
        "63d3b0c360844ec6a7001a4c37717707": {
          "model_module": "@jupyter-widgets/controls",
          "model_name": "HBoxModel",
          "state": {
            "_view_name": "HBoxView",
            "_dom_classes": [],
            "_model_name": "HBoxModel",
            "_view_module": "@jupyter-widgets/controls",
            "_model_module_version": "1.5.0",
            "_view_count": null,
            "_view_module_version": "1.5.0",
            "box_style": "",
            "layout": "IPY_MODEL_ffd7b8581d124603aaa2c087056bda70",
            "_model_module": "@jupyter-widgets/controls",
            "children": [
              "IPY_MODEL_a58130d556014bc180b11438913a21e0",
              "IPY_MODEL_bba6e6a0e08d4912b9c3e025dfe91fea"
            ]
          }
        },
        "ffd7b8581d124603aaa2c087056bda70": {
          "model_module": "@jupyter-widgets/base",
          "model_name": "LayoutModel",
          "state": {
            "_view_name": "LayoutView",
            "grid_template_rows": null,
            "right": null,
            "justify_content": null,
            "_view_module": "@jupyter-widgets/base",
            "overflow": null,
            "_model_module_version": "1.2.0",
            "_view_count": null,
            "flex_flow": null,
            "width": null,
            "min_width": null,
            "border": null,
            "align_items": null,
            "bottom": null,
            "_model_module": "@jupyter-widgets/base",
            "top": null,
            "grid_column": null,
            "overflow_y": null,
            "overflow_x": null,
            "grid_auto_flow": null,
            "grid_area": null,
            "grid_template_columns": null,
            "flex": null,
            "_model_name": "LayoutModel",
            "justify_items": null,
            "grid_row": null,
            "max_height": null,
            "align_content": null,
            "visibility": null,
            "align_self": null,
            "height": null,
            "min_height": null,
            "padding": null,
            "grid_auto_rows": null,
            "grid_gap": null,
            "max_width": null,
            "order": null,
            "_view_module_version": "1.2.0",
            "grid_template_areas": null,
            "object_position": null,
            "object_fit": null,
            "grid_auto_columns": null,
            "margin": null,
            "display": null,
            "left": null
          }
        },
        "a58130d556014bc180b11438913a21e0": {
          "model_module": "@jupyter-widgets/controls",
          "model_name": "FloatProgressModel",
          "state": {
            "_view_name": "ProgressView",
            "style": "IPY_MODEL_5c5741aed5a642ea868a035a70ba360b",
            "_dom_classes": [],
            "description": "Downloading: 100%",
            "_model_name": "FloatProgressModel",
            "bar_style": "success",
            "max": 1961828,
            "_view_module": "@jupyter-widgets/controls",
            "_model_module_version": "1.5.0",
            "value": 1961828,
            "_view_count": null,
            "_view_module_version": "1.5.0",
            "orientation": "horizontal",
            "min": 0,
            "description_tooltip": null,
            "_model_module": "@jupyter-widgets/controls",
            "layout": "IPY_MODEL_156dcd1378d04ddfa82558a430cbd916"
          }
        },
        "bba6e6a0e08d4912b9c3e025dfe91fea": {
          "model_module": "@jupyter-widgets/controls",
          "model_name": "HTMLModel",
          "state": {
            "_view_name": "HTMLView",
            "style": "IPY_MODEL_456ed718760e47829d8d65c3f750a785",
            "_dom_classes": [],
            "description": "",
            "_model_name": "HTMLModel",
            "placeholder": "​",
            "_view_module": "@jupyter-widgets/controls",
            "_model_module_version": "1.5.0",
            "value": " 1.96M/1.96M [00:41&lt;00:00, 46.9kB/s]",
            "_view_count": null,
            "_view_module_version": "1.5.0",
            "description_tooltip": null,
            "_model_module": "@jupyter-widgets/controls",
            "layout": "IPY_MODEL_6dd42be108124b4bb2628d8ddf224c4a"
          }
        },
        "5c5741aed5a642ea868a035a70ba360b": {
          "model_module": "@jupyter-widgets/controls",
          "model_name": "ProgressStyleModel",
          "state": {
            "_view_name": "StyleView",
            "_model_name": "ProgressStyleModel",
            "description_width": "initial",
            "_view_module": "@jupyter-widgets/base",
            "_model_module_version": "1.5.0",
            "_view_count": null,
            "_view_module_version": "1.2.0",
            "bar_color": null,
            "_model_module": "@jupyter-widgets/controls"
          }
        },
        "156dcd1378d04ddfa82558a430cbd916": {
          "model_module": "@jupyter-widgets/base",
          "model_name": "LayoutModel",
          "state": {
            "_view_name": "LayoutView",
            "grid_template_rows": null,
            "right": null,
            "justify_content": null,
            "_view_module": "@jupyter-widgets/base",
            "overflow": null,
            "_model_module_version": "1.2.0",
            "_view_count": null,
            "flex_flow": null,
            "width": null,
            "min_width": null,
            "border": null,
            "align_items": null,
            "bottom": null,
            "_model_module": "@jupyter-widgets/base",
            "top": null,
            "grid_column": null,
            "overflow_y": null,
            "overflow_x": null,
            "grid_auto_flow": null,
            "grid_area": null,
            "grid_template_columns": null,
            "flex": null,
            "_model_name": "LayoutModel",
            "justify_items": null,
            "grid_row": null,
            "max_height": null,
            "align_content": null,
            "visibility": null,
            "align_self": null,
            "height": null,
            "min_height": null,
            "padding": null,
            "grid_auto_rows": null,
            "grid_gap": null,
            "max_width": null,
            "order": null,
            "_view_module_version": "1.2.0",
            "grid_template_areas": null,
            "object_position": null,
            "object_fit": null,
            "grid_auto_columns": null,
            "margin": null,
            "display": null,
            "left": null
          }
        },
        "456ed718760e47829d8d65c3f750a785": {
          "model_module": "@jupyter-widgets/controls",
          "model_name": "DescriptionStyleModel",
          "state": {
            "_view_name": "StyleView",
            "_model_name": "DescriptionStyleModel",
            "description_width": "",
            "_view_module": "@jupyter-widgets/base",
            "_model_module_version": "1.5.0",
            "_view_count": null,
            "_view_module_version": "1.2.0",
            "_model_module": "@jupyter-widgets/controls"
          }
        },
        "6dd42be108124b4bb2628d8ddf224c4a": {
          "model_module": "@jupyter-widgets/base",
          "model_name": "LayoutModel",
          "state": {
            "_view_name": "LayoutView",
            "grid_template_rows": null,
            "right": null,
            "justify_content": null,
            "_view_module": "@jupyter-widgets/base",
            "overflow": null,
            "_model_module_version": "1.2.0",
            "_view_count": null,
            "flex_flow": null,
            "width": null,
            "min_width": null,
            "border": null,
            "align_items": null,
            "bottom": null,
            "_model_module": "@jupyter-widgets/base",
            "top": null,
            "grid_column": null,
            "overflow_y": null,
            "overflow_x": null,
            "grid_auto_flow": null,
            "grid_area": null,
            "grid_template_columns": null,
            "flex": null,
            "_model_name": "LayoutModel",
            "justify_items": null,
            "grid_row": null,
            "max_height": null,
            "align_content": null,
            "visibility": null,
            "align_self": null,
            "height": null,
            "min_height": null,
            "padding": null,
            "grid_auto_rows": null,
            "grid_gap": null,
            "max_width": null,
            "order": null,
            "_view_module_version": "1.2.0",
            "grid_template_areas": null,
            "object_position": null,
            "object_fit": null,
            "grid_auto_columns": null,
            "margin": null,
            "display": null,
            "left": null
          }
        }
      }
    }
  },
  "cells": [
    {
      "cell_type": "code",
      "metadata": {
        "colab": {
          "base_uri": "https://localhost:8080/"
        },
        "id": "NTbMCg2rPxuc",
        "outputId": "20586958-7f95-48ec-dee8-049d79f92159"
      },
      "source": [
        "!pip install transformers wget"
      ],
      "execution_count": null,
      "outputs": [
        {
          "output_type": "stream",
          "text": [
            "Collecting transformers\n",
            "\u001b[?25l  Downloading https://files.pythonhosted.org/packages/d8/b2/57495b5309f09fa501866e225c84532d1fd89536ea62406b2181933fb418/transformers-4.5.1-py3-none-any.whl (2.1MB)\n",
            "\u001b[K     |████████████████████████████████| 2.1MB 8.9MB/s \n",
            "\u001b[?25hCollecting wget\n",
            "  Downloading https://files.pythonhosted.org/packages/47/6a/62e288da7bcda82b935ff0c6cfe542970f04e29c756b0e147251b2fb251f/wget-3.2.zip\n",
            "Requirement already satisfied: packaging in /usr/local/lib/python3.7/dist-packages (from transformers) (20.9)\n",
            "Requirement already satisfied: tqdm>=4.27 in /usr/local/lib/python3.7/dist-packages (from transformers) (4.41.1)\n",
            "Collecting sacremoses\n",
            "\u001b[?25l  Downloading https://files.pythonhosted.org/packages/75/ee/67241dc87f266093c533a2d4d3d69438e57d7a90abb216fa076e7d475d4a/sacremoses-0.0.45-py3-none-any.whl (895kB)\n",
            "\u001b[K     |████████████████████████████████| 901kB 40.0MB/s \n",
            "\u001b[?25hRequirement already satisfied: filelock in /usr/local/lib/python3.7/dist-packages (from transformers) (3.0.12)\n",
            "Requirement already satisfied: regex!=2019.12.17 in /usr/local/lib/python3.7/dist-packages (from transformers) (2019.12.20)\n",
            "Collecting tokenizers<0.11,>=0.10.1\n",
            "\u001b[?25l  Downloading https://files.pythonhosted.org/packages/ae/04/5b870f26a858552025a62f1649c20d29d2672c02ff3c3fb4c688ca46467a/tokenizers-0.10.2-cp37-cp37m-manylinux2010_x86_64.whl (3.3MB)\n",
            "\u001b[K     |████████████████████████████████| 3.3MB 18.2MB/s \n",
            "\u001b[?25hRequirement already satisfied: requests in /usr/local/lib/python3.7/dist-packages (from transformers) (2.23.0)\n",
            "Requirement already satisfied: numpy>=1.17 in /usr/local/lib/python3.7/dist-packages (from transformers) (1.19.5)\n",
            "Requirement already satisfied: importlib-metadata; python_version < \"3.8\" in /usr/local/lib/python3.7/dist-packages (from transformers) (3.10.1)\n",
            "Requirement already satisfied: pyparsing>=2.0.2 in /usr/local/lib/python3.7/dist-packages (from packaging->transformers) (2.4.7)\n",
            "Requirement already satisfied: six in /usr/local/lib/python3.7/dist-packages (from sacremoses->transformers) (1.15.0)\n",
            "Requirement already satisfied: joblib in /usr/local/lib/python3.7/dist-packages (from sacremoses->transformers) (1.0.1)\n",
            "Requirement already satisfied: click in /usr/local/lib/python3.7/dist-packages (from sacremoses->transformers) (7.1.2)\n",
            "Requirement already satisfied: idna<3,>=2.5 in /usr/local/lib/python3.7/dist-packages (from requests->transformers) (2.10)\n",
            "Requirement already satisfied: chardet<4,>=3.0.2 in /usr/local/lib/python3.7/dist-packages (from requests->transformers) (3.0.4)\n",
            "Requirement already satisfied: certifi>=2017.4.17 in /usr/local/lib/python3.7/dist-packages (from requests->transformers) (2020.12.5)\n",
            "Requirement already satisfied: urllib3!=1.25.0,!=1.25.1,<1.26,>=1.21.1 in /usr/local/lib/python3.7/dist-packages (from requests->transformers) (1.24.3)\n",
            "Requirement already satisfied: zipp>=0.5 in /usr/local/lib/python3.7/dist-packages (from importlib-metadata; python_version < \"3.8\"->transformers) (3.4.1)\n",
            "Requirement already satisfied: typing-extensions>=3.6.4; python_version < \"3.8\" in /usr/local/lib/python3.7/dist-packages (from importlib-metadata; python_version < \"3.8\"->transformers) (3.7.4.3)\n",
            "Building wheels for collected packages: wget\n",
            "  Building wheel for wget (setup.py) ... \u001b[?25l\u001b[?25hdone\n",
            "  Created wheel for wget: filename=wget-3.2-cp37-none-any.whl size=9681 sha256=a6457e2afcd6780fb50cc6acd193bccbbe023ed2930a6131804bdef4c0333a62\n",
            "  Stored in directory: /root/.cache/pip/wheels/40/15/30/7d8f7cea2902b4db79e3fea550d7d7b85ecb27ef992b618f3f\n",
            "Successfully built wget\n",
            "Installing collected packages: sacremoses, tokenizers, transformers, wget\n",
            "Successfully installed sacremoses-0.0.45 tokenizers-0.10.2 transformers-4.5.1 wget-3.2\n"
          ],
          "name": "stdout"
        }
      ]
    },
    {
      "cell_type": "code",
      "metadata": {
        "id": "fbiKLDW5PzhJ"
      },
      "source": [
        "import os\n",
        "import string\n",
        "import numpy as np\n",
        "import tensorflow as tf\n",
        "from tensorflow import keras\n",
        "from tensorflow.keras import layers\n",
        "from tokenizers import BertWordPieceTokenizer\n",
        "from transformers import BertTokenizer, TFBertModel\n",
        "import wget\n",
        "import copy\n",
        "\n",
        "\n",
        "# MAX_LEN = 300\n",
        "MAX_LEN = 384\n",
        "EPOCHS = 1\n",
        "VERBOSE = 1\n",
        "BATCH_SIZE = 20"
      ],
      "execution_count": null,
      "outputs": []
    },
    {
      "cell_type": "code",
      "metadata": {
        "colab": {
          "base_uri": "https://localhost:8080/",
          "height": 167,
          "referenced_widgets": [
            "ea9915a74fb54c1da5f02ea050a3635f",
            "1fe8670fb99e48f299766b42ce483105",
            "c7c46f9b27324f9ca5f58ca6aa4828ff",
            "2ba685680751443bb675fe0395154519",
            "2bde8f54ff7e49aebee153eb8ec7671d",
            "a458fad7de654d68a1f119ae2b4cdc40",
            "6fb8fd3987d04603b9bde4e4249952fb",
            "5494a8ef580e4491b2525cd13c7f72f3",
            "5cd1446ede504aae90ee16c91018cada",
            "48d0af315b714c1baeeb257337120663",
            "94dc43adee58438988896b0c493d4d51",
            "27b7f415a123405da1b392155bfabeee",
            "00466b9632a34cc09b36b7620fbafb18",
            "fe9b876dadd2474b963d4e6e0ada8707",
            "ba7981b0a0434a02b4b63c2db5d09c24",
            "a681c212b7104c57b923d9f49bc60d94",
            "63d3b0c360844ec6a7001a4c37717707",
            "ffd7b8581d124603aaa2c087056bda70",
            "a58130d556014bc180b11438913a21e0",
            "bba6e6a0e08d4912b9c3e025dfe91fea",
            "5c5741aed5a642ea868a035a70ba360b",
            "156dcd1378d04ddfa82558a430cbd916",
            "456ed718760e47829d8d65c3f750a785",
            "6dd42be108124b4bb2628d8ddf224c4a"
          ]
        },
        "id": "a4nXrdmmSamS",
        "outputId": "178d3492-e605-49d1-c7c3-780c9317b2cd"
      },
      "source": [
        "# Save the slow pretrained tokenizer\n",
        "slow_tokenizer = BertTokenizer.from_pretrained(\"bert-base-multilingual-cased\", lowercase=False)\n",
        "save_path = \"bert-base-multilingual-cased/\"\n",
        "if not os.path.exists(save_path):\n",
        "    os.makedirs(save_path)\n",
        "slow_tokenizer.save_pretrained(save_path)\n",
        "\n",
        "# Load the fast tokenizer from saved file\n",
        "tokenizer = BertWordPieceTokenizer(\"bert-base-multilingual-cased/vocab.txt\", lowercase=False)"
      ],
      "execution_count": null,
      "outputs": [
        {
          "output_type": "display_data",
          "data": {
            "application/vnd.jupyter.widget-view+json": {
              "model_id": "ea9915a74fb54c1da5f02ea050a3635f",
              "version_minor": 0,
              "version_major": 2
            },
            "text/plain": [
              "HBox(children=(FloatProgress(value=0.0, description='Downloading', max=995526.0, style=ProgressStyle(descripti…"
            ]
          },
          "metadata": {
            "tags": []
          }
        },
        {
          "output_type": "stream",
          "text": [
            "\n"
          ],
          "name": "stdout"
        },
        {
          "output_type": "display_data",
          "data": {
            "application/vnd.jupyter.widget-view+json": {
              "model_id": "5cd1446ede504aae90ee16c91018cada",
              "version_minor": 0,
              "version_major": 2
            },
            "text/plain": [
              "HBox(children=(FloatProgress(value=0.0, description='Downloading', max=29.0, style=ProgressStyle(description_w…"
            ]
          },
          "metadata": {
            "tags": []
          }
        },
        {
          "output_type": "stream",
          "text": [
            "\n"
          ],
          "name": "stdout"
        },
        {
          "output_type": "display_data",
          "data": {
            "application/vnd.jupyter.widget-view+json": {
              "model_id": "63d3b0c360844ec6a7001a4c37717707",
              "version_minor": 0,
              "version_major": 2
            },
            "text/plain": [
              "HBox(children=(FloatProgress(value=0.0, description='Downloading', max=1961828.0, style=ProgressStyle(descript…"
            ]
          },
          "metadata": {
            "tags": []
          }
        },
        {
          "output_type": "stream",
          "text": [
            "\n"
          ],
          "name": "stdout"
        }
      ]
    },
    {
      "cell_type": "code",
      "metadata": {
        "colab": {
          "base_uri": "https://localhost:8080/",
          "height": 35
        },
        "id": "gZ9jZN2uSOHc",
        "outputId": "4863e34f-b50a-4490-f8c3-88b012bb9f25"
      },
      "source": [
        "wget.download('https://s3.amazonaws.com/models.huggingface.co/bert/bert-base-multilingual-cased-config.json', out='./bert-base-multilingual-cased/')"
      ],
      "execution_count": null,
      "outputs": [
        {
          "output_type": "execute_result",
          "data": {
            "application/vnd.google.colaboratory.intrinsic+json": {
              "type": "string"
            },
            "text/plain": [
              "'./bert-base-multilingual-cased//bert-base-multilingual-cased-config.json'"
            ]
          },
          "metadata": {
            "tags": []
          },
          "execution_count": 4
        }
      ]
    },
    {
      "cell_type": "code",
      "metadata": {
        "id": "kdI2Yh3wSOK-"
      },
      "source": [
        "os.rename('./bert-base-multilingual-cased/bert-base-multilingual-cased-config.json', './bert-base-multilingual-cased/config.json')"
      ],
      "execution_count": null,
      "outputs": []
    },
    {
      "cell_type": "code",
      "metadata": {
        "colab": {
          "base_uri": "https://localhost:8080/",
          "height": 35
        },
        "id": "CVzVId_JSOOU",
        "outputId": "6cd643cb-8015-41b9-c61d-d9de57e89200"
      },
      "source": [
        "wget.download('https://s3.amazonaws.com/models.huggingface.co/bert/bert-base-multilingual-cased-tf_model.h5', out='./bert-base-multilingual-cased/')"
      ],
      "execution_count": null,
      "outputs": [
        {
          "output_type": "execute_result",
          "data": {
            "application/vnd.google.colaboratory.intrinsic+json": {
              "type": "string"
            },
            "text/plain": [
              "'./bert-base-multilingual-cased//bert-base-multilingual-cased-tf_model.h5'"
            ]
          },
          "metadata": {
            "tags": []
          },
          "execution_count": 6
        }
      ]
    },
    {
      "cell_type": "code",
      "metadata": {
        "id": "EFhNgk8BSOUE"
      },
      "source": [
        "os.rename('./bert-base-multilingual-cased/bert-base-multilingual-cased-tf_model.h5', './bert-base-multilingual-cased/tf_model.h5')"
      ],
      "execution_count": null,
      "outputs": []
    },
    {
      "cell_type": "code",
      "metadata": {
        "id": "5onRBNzrPzj_"
      },
      "source": [
        "class TFBERTQuestionAnswering(tf.keras.Model):\n",
        "    def __init__(self, model_name, dir_path, num_class):\n",
        "        super(TFBERTQuestionAnswering, self).__init__()\n",
        "        \n",
        "        self.encoder = TFBertModel.from_pretrained(model_name, cache_dir=dir_path)\n",
        "        self.start_logit = tf.keras.layers.Dense(num_class, name=\"start_logit\", use_bias=False)\n",
        "        self.end_logit = tf.keras.layers.Dense(num_class, name=\"end_logit\", use_bias=False)\n",
        "        self.flatten = tf.keras.layers.Flatten() \n",
        "        self.softmax = tf.keras.layers.Activation(tf.keras.activations.softmax)\n",
        "        \n",
        "    def call(self, inputs):\n",
        "        input_ids, token_type_ids, attention_mask = inputs\n",
        "        embedding = self.encoder(input_ids, token_type_ids=token_type_ids, attention_mask=attention_mask)[0]\n",
        "        start_logits = self.start_logit(embedding)\n",
        "        start_logits = self.flatten(start_logits)\n",
        "        \n",
        "        end_logits = self.end_logit(embedding)\n",
        "        end_logits = self.flatten(end_logits)\n",
        "        \n",
        "        start_probs = self.softmax(start_logits)\n",
        "        end_probs = self.softmax(end_logits)\n",
        "    \n",
        "        return start_probs, end_probs"
      ],
      "execution_count": null,
      "outputs": []
    },
    {
      "cell_type": "code",
      "metadata": {
        "colab": {
          "base_uri": "https://localhost:8080/"
        },
        "id": "G83YZ1dCPznI",
        "outputId": "6f11003f-6779-4639-8e91-5dd12b1bffce"
      },
      "source": [
        "korquad_model = TFBERTQuestionAnswering(model_name='./bert-base-multilingual-cased/',dir_path='bert_ckpt', num_class=1)\n",
        "optimizer = tf.keras.optimizers.Adam(learning_rate=5e-5)\n",
        "loss = keras.losses.SparseCategoricalCrossentropy(from_logits=False)"
      ],
      "execution_count": null,
      "outputs": [
        {
          "output_type": "stream",
          "text": [
            "Some layers from the model checkpoint at ./bert-base-multilingual-cased/ were not used when initializing TFBertModel: ['mlm___cls', 'nsp___cls']\n",
            "- This IS expected if you are initializing TFBertModel from the checkpoint of a model trained on another task or with another architecture (e.g. initializing a BertForSequenceClassification model from a BertForPreTraining model).\n",
            "- This IS NOT expected if you are initializing TFBertModel from the checkpoint of a model that you expect to be exactly identical (initializing a BertForSequenceClassification model from a BertForSequenceClassification model).\n",
            "All the layers of TFBertModel were initialized from the model checkpoint at ./bert-base-multilingual-cased/.\n",
            "If your task is similar to the task the model of the checkpoint was trained on, you can already use TFBertModel for predictions without further training.\n"
          ],
          "name": "stderr"
        }
      ]
    },
    {
      "cell_type": "code",
      "metadata": {
        "id": "2B06wDT_Pzpn"
      },
      "source": [
        "korquad_model.compile(optimizer=optimizer, loss=[loss, loss])"
      ],
      "execution_count": null,
      "outputs": []
    },
    {
      "cell_type": "code",
      "metadata": {
        "id": "UcqyGZuMPzvv"
      },
      "source": [
        "build_input = [np.array([np.array([0,0])]),np.array([np.array([0,0])]),np.array([np.array([0,0])])]"
      ],
      "execution_count": null,
      "outputs": []
    },
    {
      "cell_type": "code",
      "metadata": {
        "id": "T9jYLOtCPzyn"
      },
      "source": [
        "build_output = [np.array([[0]]), np.array([[0]])]"
      ],
      "execution_count": null,
      "outputs": []
    },
    {
      "cell_type": "code",
      "metadata": {
        "colab": {
          "base_uri": "https://localhost:8080/"
        },
        "id": "Io37Ra68Pz1Z",
        "outputId": "6ee50527-5b41-4a9c-e540-1344ea99440c"
      },
      "source": [
        "korquad_model.fit(\n",
        "    build_input,\n",
        "    build_output,\n",
        "    epochs=1,  # For demonstration, 3 epochs are recommended\n",
        "    verbose=1,\n",
        "    batch_size=16,\n",
        ")"
      ],
      "execution_count": null,
      "outputs": [
        {
          "output_type": "stream",
          "text": [
            "WARNING:tensorflow:The parameters `output_attentions`, `output_hidden_states` and `use_cache` cannot be updated when calling a model.They have to be set to True/False in the config object (i.e.: `config=XConfig.from_pretrained('name', output_attentions=True)`).\n",
            "WARNING:tensorflow:AutoGraph could not transform <bound method Socket.send of <zmq.sugar.socket.Socket object at 0x7fb97a5ecd00>> and will run it as-is.\n",
            "Please report this to the TensorFlow team. When filing the bug, set the verbosity to 10 (on Linux, `export AUTOGRAPH_VERBOSITY=10`) and attach the full output.\n",
            "Cause: module, class, method, function, traceback, frame, or code object was expected, got cython_function_or_method\n",
            "To silence this warning, decorate the function with @tf.autograph.experimental.do_not_convert\n",
            "WARNING: AutoGraph could not transform <bound method Socket.send of <zmq.sugar.socket.Socket object at 0x7fb97a5ecd00>> and will run it as-is.\n",
            "Please report this to the TensorFlow team. When filing the bug, set the verbosity to 10 (on Linux, `export AUTOGRAPH_VERBOSITY=10`) and attach the full output.\n",
            "Cause: module, class, method, function, traceback, frame, or code object was expected, got cython_function_or_method\n",
            "To silence this warning, decorate the function with @tf.autograph.experimental.do_not_convert\n",
            "WARNING:tensorflow:AutoGraph could not transform <function wrap at 0x7fb995e9ad40> and will run it as-is.\n",
            "Cause: while/else statement not yet supported\n",
            "To silence this warning, decorate the function with @tf.autograph.experimental.do_not_convert\n",
            "WARNING: AutoGraph could not transform <function wrap at 0x7fb995e9ad40> and will run it as-is.\n",
            "Cause: while/else statement not yet supported\n",
            "To silence this warning, decorate the function with @tf.autograph.experimental.do_not_convert\n",
            "WARNING:tensorflow:The parameter `return_dict` cannot be set in graph mode and will always be set to `True`.\n",
            "WARNING:tensorflow:Gradients do not exist for variables ['tf_bert_model/bert/pooler/dense/kernel:0', 'tf_bert_model/bert/pooler/dense/bias:0'] when minimizing the loss.\n",
            "WARNING:tensorflow:The parameters `output_attentions`, `output_hidden_states` and `use_cache` cannot be updated when calling a model.They have to be set to True/False in the config object (i.e.: `config=XConfig.from_pretrained('name', output_attentions=True)`).\n",
            "WARNING:tensorflow:The parameter `return_dict` cannot be set in graph mode and will always be set to `True`.\n",
            "WARNING:tensorflow:Gradients do not exist for variables ['tf_bert_model/bert/pooler/dense/kernel:0', 'tf_bert_model/bert/pooler/dense/bias:0'] when minimizing the loss.\n",
            "1/1 [==============================] - 57s 57s/step - loss: 1.8030 - output_1_loss: 1.1221 - output_2_loss: 0.6809\n"
          ],
          "name": "stdout"
        },
        {
          "output_type": "execute_result",
          "data": {
            "text/plain": [
              "<tensorflow.python.keras.callbacks.History at 0x7fb8e273ec10>"
            ]
          },
          "metadata": {
            "tags": []
          },
          "execution_count": 13
        }
      ]
    },
    {
      "cell_type": "code",
      "metadata": {
        "colab": {
          "base_uri": "https://localhost:8080/"
        },
        "id": "doHbtUljQjVo",
        "outputId": "f2ed2359-d669-4139-f911-aab0bbc66dee"
      },
      "source": [
        "korquad_model.summary()"
      ],
      "execution_count": null,
      "outputs": [
        {
          "output_type": "stream",
          "text": [
            "Model: \"tfbert_question_answering\"\n",
            "_________________________________________________________________\n",
            "Layer (type)                 Output Shape              Param #   \n",
            "=================================================================\n",
            "tf_bert_model (TFBertModel)  multiple                  177853440 \n",
            "_________________________________________________________________\n",
            "start_logit (Dense)          multiple                  768       \n",
            "_________________________________________________________________\n",
            "end_logit (Dense)            multiple                  768       \n",
            "_________________________________________________________________\n",
            "flatten (Flatten)            multiple                  0         \n",
            "_________________________________________________________________\n",
            "activation (Activation)      multiple                  0         \n",
            "=================================================================\n",
            "Total params: 177,854,976\n",
            "Trainable params: 177,854,976\n",
            "Non-trainable params: 0\n",
            "_________________________________________________________________\n"
          ],
          "name": "stdout"
        }
      ]
    },
    {
      "cell_type": "code",
      "metadata": {
        "colab": {
          "base_uri": "https://localhost:8080/"
        },
        "id": "UjDGXsZaPz3_",
        "outputId": "e8dfe852-9e9f-4de4-9ffe-34ee3f39199d"
      },
      "source": [
        "from google.colab import drive\n",
        "drive.mount('/content/drive')"
      ],
      "execution_count": null,
      "outputs": [
        {
          "output_type": "stream",
          "text": [
            "Mounted at /content/drive\n"
          ],
          "name": "stdout"
        }
      ]
    },
    {
      "cell_type": "code",
      "metadata": {
        "id": "lYUZOpfNPz6o"
      },
      "source": [
        "# korquad_model.load_weights('./bert_korquad3.h5')\n",
        "korquad_model.load_weights('/content/drive/MyDrive/bert_weights/bert_korquad3.h5')"
      ],
      "execution_count": null,
      "outputs": []
    },
    {
      "cell_type": "code",
      "metadata": {
        "id": "PWm6nRq2Qja6"
      },
      "source": [
        "def convert_data(question, context):\n",
        "\n",
        "    context = \" \".join(str(context).split())\n",
        "    question = \" \".join(str(question).split())    \n",
        "    \n",
        "    tokenized_context = tokenizer.encode(context)\n",
        "    tokenized_question = tokenizer.encode(question)\n",
        "\n",
        "    input_ids_list = []\n",
        "    token_type_ids_list = []\n",
        "    attention_mask_list = []\n",
        "\n",
        "\n",
        "    # Create inputs\n",
        "    input_ids = tokenized_context.ids + tokenized_question.ids[1:]\n",
        "    token_type_ids = [0] * len(tokenized_context.ids) + [1] * len(\n",
        "    tokenized_question.ids[1:]\n",
        "    )\n",
        "    attention_mask = [1] * len(input_ids)\n",
        "\n",
        "    # Pad and create attention masks.\n",
        "    # Skip if truncation is needed\n",
        "    padding_length = MAX_LEN - len(input_ids)\n",
        "    if padding_length > 0:  # pad\n",
        "        input_ids = input_ids + ([0] * padding_length)\n",
        "        token_type_ids = token_type_ids + ([0] * padding_length)\n",
        "        attention_mask = attention_mask + ([0] * padding_length)\n",
        "    elif padding_length < 0:\n",
        "        pass\n",
        "\n",
        "    input_ids_list.append(input_ids)\n",
        "    token_type_ids_list.append(token_type_ids)\n",
        "    attention_mask_list.append(attention_mask)\n",
        "\n",
        "    input_ids_list = np.array(input_ids_list)\n",
        "    token_type_ids_list = np.array(token_type_ids_list)\n",
        "    attention_mask_list = np.array(attention_mask_list)\n",
        "\n",
        "   \n",
        "    return [input_ids_list, token_type_ids_list, attention_mask_list]"
      ],
      "execution_count": null,
      "outputs": []
    },
    {
      "cell_type": "code",
      "metadata": {
        "id": "meuUG0OVQjdf"
      },
      "source": [
        "def predict_answer(question, context):\n",
        "    \n",
        "    context_origin = copy.deepcopy(context)\n",
        "\n",
        "    input = convert_data(question, context)\n",
        "    answer_start, answer_end = korquad_model.predict(input)\n",
        "\n",
        "    answer_start_idx =  np.argmax(answer_start)\n",
        "    answer_end_idx = np.argmax(answer_end)\n",
        "\n",
        "    context = \" \".join(str(context).split())\n",
        "    context_tokens = tokenizer.encode(context).tokens\n",
        "    answer_tokens = []\n",
        "    for i in range(answer_start_idx, answer_end_idx+1):\n",
        "        answer_tokens.append(tokenizer.encode(context).tokens[i])\n",
        "    \n",
        "    answer_sentence = ''\n",
        "\n",
        "    for answer_token in answer_tokens:\n",
        "        if answer_token.startswith(\"##\"):\n",
        "            answer_token = answer_token.replace(\"##\",\"\")\n",
        "        else:\n",
        "            answer_token = \" \" + answer_token\n",
        "          \n",
        "        answer_sentence += answer_token\n",
        "\n",
        "    print(f'Context :\\n{context_origin}\\n')\n",
        "    print(f'Question : {question}\\n')\n",
        "    print(f'Answer :{answer_sentence}')    "
      ],
      "execution_count": null,
      "outputs": []
    },
    {
      "cell_type": "code",
      "metadata": {
        "colab": {
          "base_uri": "https://localhost:8080/"
        },
        "id": "_CfO5FXNQ6ZL",
        "outputId": "c4177165-d9f9-48e5-a1f0-afb43f286b2d"
      },
      "source": [
        "# 출처 : 나무위키\n",
        "context = '''\n",
        "마케도니아 왕국 출신의 그리스 철학자.[3] 1998년 저명한 현대 철학자들이 벌인 \"서구 철학계에서 가장 큰 영향을 끼친 철학자\"를 뽑는 투표에서 1위 차지.[4][5]\n",
        "\n",
        "스승인 플라톤과 함께 2천여 년 서양철학사에서 가장 중요한 역할을 차지하는 위인이다.[6] 형이상학, 논리학, 정치철학, 윤리학, 자연철학, 과학, 생물학 등 인간이 할 수 있는 모든 분야에 통달하고 그것들의 기초를 마련한 철학사의 거인.\n",
        "\n",
        "스탠퍼드 철학 백과에서는 아리스토텔레스를 \"모든 시대의 가장 위대한 철학자 중 하나\"로, 브리태니커 백과사전에서는 \"서구 역사상 가장 위대한 지성인 중 하나\"로 소개하고 있다.\n",
        "'''\n",
        "question = '아리스토텔레스의 스승은 누구인가?'\n",
        "predict_answer(question, context)"
      ],
      "execution_count": null,
      "outputs": [
        {
          "output_type": "stream",
          "text": [
            "WARNING:tensorflow:The parameters `output_attentions`, `output_hidden_states` and `use_cache` cannot be updated when calling a model.They have to be set to True/False in the config object (i.e.: `config=XConfig.from_pretrained('name', output_attentions=True)`).\n",
            "WARNING:tensorflow:The parameter `return_dict` cannot be set in graph mode and will always be set to `True`.\n",
            "Context :\n",
            "\n",
            "마케도니아 왕국 출신의 그리스 철학자.[3] 1998년 저명한 현대 철학자들이 벌인 \"서구 철학계에서 가장 큰 영향을 끼친 철학자\"를 뽑는 투표에서 1위 차지.[4][5]\n",
            "\n",
            "스승인 플라톤과 함께 2천여 년 서양철학사에서 가장 중요한 역할을 차지하는 위인이다.[6] 형이상학, 논리학, 정치철학, 윤리학, 자연철학, 과학, 생물학 등 인간이 할 수 있는 모든 분야에 통달하고 그것들의 기초를 마련한 철학사의 거인.\n",
            "\n",
            "스탠퍼드 철학 백과에서는 아리스토텔레스를 \"모든 시대의 가장 위대한 철학자 중 하나\"로, 브리태니커 백과사전에서는 \"서구 역사상 가장 위대한 지성인 중 하나\"로 소개하고 있다.\n",
            "\n",
            "\n",
            "Question : 아리스토텔레스의 스승은 누구인가?\n",
            "\n",
            "Answer : 플라톤\n"
          ],
          "name": "stdout"
        }
      ]
    },
    {
      "cell_type": "code",
      "metadata": {
        "colab": {
          "base_uri": "https://localhost:8080/"
        },
        "id": "20FHldCvQ6cC",
        "outputId": "3acfe2d1-012a-4881-f38b-159ee19a18e6"
      },
      "source": [
        "context = '''\n",
        "마케도니아 왕국 출신의 그리스 철학자.[3] 1998년 저명한 현대 철학자들이 벌인 \"서구 철학계에서 가장 큰 영향을 끼친 철학자\"를 뽑는 투표에서 1위 차지.[4][5]\n",
        "\n",
        "스승인 플라톤과 함께 2천여 년 서양철학사에서 가장 중요한 역할을 차지하는 위인이다.[6] 형이상학, 논리학, 정치철학, 윤리학, 자연철학, 과학, 생물학 등 인간이 할 수 있는 모든 분야에 통달하고 그것들의 기초를 마련한 철학사의 거인.\n",
        "\n",
        "스탠퍼드 철학 백과에서는 아리스토텔레스를 \"모든 시대의 가장 위대한 철학자 중 하나\"로, 브리태니커 백과사전에서는 \"서구 역사상 가장 위대한 지성인 중 하나\"로 소개하고 있다.\n",
        "'''\n",
        "question = '아리스토텔레스의 출신은 어디?'\n",
        "predict_answer(question, context)"
      ],
      "execution_count": null,
      "outputs": [
        {
          "output_type": "stream",
          "text": [
            "Context :\n",
            "\n",
            "마케도니아 왕국 출신의 그리스 철학자.[3] 1998년 저명한 현대 철학자들이 벌인 \"서구 철학계에서 가장 큰 영향을 끼친 철학자\"를 뽑는 투표에서 1위 차지.[4][5]\n",
            "\n",
            "스승인 플라톤과 함께 2천여 년 서양철학사에서 가장 중요한 역할을 차지하는 위인이다.[6] 형이상학, 논리학, 정치철학, 윤리학, 자연철학, 과학, 생물학 등 인간이 할 수 있는 모든 분야에 통달하고 그것들의 기초를 마련한 철학사의 거인.\n",
            "\n",
            "스탠퍼드 철학 백과에서는 아리스토텔레스를 \"모든 시대의 가장 위대한 철학자 중 하나\"로, 브리태니커 백과사전에서는 \"서구 역사상 가장 위대한 지성인 중 하나\"로 소개하고 있다.\n",
            "\n",
            "\n",
            "Question : 아리스토텔레스의 출신은 어디?\n",
            "\n",
            "Answer : 마케도니아 왕국\n"
          ],
          "name": "stdout"
        }
      ]
    },
    {
      "cell_type": "code",
      "metadata": {
        "colab": {
          "base_uri": "https://localhost:8080/"
        },
        "id": "LWnGUu1fQ6eq",
        "outputId": "ec070ac5-1a39-4097-9d0e-62cbca6f99f2"
      },
      "source": [
        "context = '''\n",
        "마케도니아 왕국 출신의 그리스 철학자.[3] 1998년 저명한 현대 철학자들이 벌인 \"서구 철학계에서 가장 큰 영향을 끼친 철학자\"를 뽑는 투표에서 1위 차지.[4][5]\n",
        "\n",
        "스승인 플라톤과 함께 2천여 년 서양철학사에서 가장 중요한 역할을 차지하는 위인이다.[6] 형이상학, 논리학, 정치철학, 윤리학, 자연철학, 과학, 생물학 등 인간이 할 수 있는 모든 분야에 통달하고 그것들의 기초를 마련한 철학사의 거인.\n",
        "\n",
        "스탠퍼드 철학 백과에서는 아리스토텔레스를 \"모든 시대의 가장 위대한 철학자 중 하나\"로, 브리태니커 백과사전에서는 \"서구 역사상 가장 위대한 지성인 중 하나\"로 소개하고 있다.\n",
        "'''\n",
        "question = '브리태니커 백과사전에서는 아리스토텔레스를 어떻게 소개하고 있어?'\n",
        "predict_answer(question, context)"
      ],
      "execution_count": null,
      "outputs": [
        {
          "output_type": "stream",
          "text": [
            "Context :\n",
            "\n",
            "마케도니아 왕국 출신의 그리스 철학자.[3] 1998년 저명한 현대 철학자들이 벌인 \"서구 철학계에서 가장 큰 영향을 끼친 철학자\"를 뽑는 투표에서 1위 차지.[4][5]\n",
            "\n",
            "스승인 플라톤과 함께 2천여 년 서양철학사에서 가장 중요한 역할을 차지하는 위인이다.[6] 형이상학, 논리학, 정치철학, 윤리학, 자연철학, 과학, 생물학 등 인간이 할 수 있는 모든 분야에 통달하고 그것들의 기초를 마련한 철학사의 거인.\n",
            "\n",
            "스탠퍼드 철학 백과에서는 아리스토텔레스를 \"모든 시대의 가장 위대한 철학자 중 하나\"로, 브리태니커 백과사전에서는 \"서구 역사상 가장 위대한 지성인 중 하나\"로 소개하고 있다.\n",
            "\n",
            "\n",
            "Question : 브리태니커 백과사전에서는 아리스토텔레스를 어떻게 소개하고 있어?\n",
            "\n",
            "Answer : 서구 역사상 가장 위대한 지성인 중 하나\n"
          ],
          "name": "stdout"
        }
      ]
    },
    {
      "cell_type": "code",
      "metadata": {
        "colab": {
          "base_uri": "https://localhost:8080/"
        },
        "id": "eNlLUTaRa1nr",
        "outputId": "6e414f22-4936-4a82-de94-3c7bd13986ca"
      },
      "source": [
        "context = '''\n",
        "철수와 영희는 유치원에서 처음 만난 후 죽마고우가 됐다.\n",
        "어느덧 세월이 흘러 철수와 영희는 25살이 되었다.\n",
        "하지만 그 둘은 여전히 사이가 좋다.\n",
        "'''\n",
        "question = '철수와 영희는 어디에서 처음 만났어?'\n",
        "predict_answer(question, context)"
      ],
      "execution_count": null,
      "outputs": [
        {
          "output_type": "stream",
          "text": [
            "Context :\n",
            "\n",
            "철수와 영희는 유치원에서 처음 만난 후 죽마고우가 됐다.\n",
            "어느덧 세월이 흘러 철수와 영희는 25살이 되었다.\n",
            "하지만 그 둘은 여전히 사이가 좋다.\n",
            "\n",
            "\n",
            "Question : 철수와 영희는 어디에서 처음 만났어?\n",
            "\n",
            "Answer : 유치원에\n"
          ],
          "name": "stdout"
        }
      ]
    },
    {
      "cell_type": "markdown",
      "metadata": {
        "id": "39Q1yO-X9Zmh"
      },
      "source": [
        "기사 출처 :  http://www.footballist.co.kr/news/articleView.html?idxno=132915"
      ]
    },
    {
      "cell_type": "code",
      "metadata": {
        "id": "4GgKmVMWQ6hL",
        "colab": {
          "base_uri": "https://localhost:8080/"
        },
        "outputId": "429de07b-2a47-489b-9d87-2a69a1afca5f"
      },
      "source": [
        "context = '''\n",
        "10년 동안 유럽 축구계를 양분했던 메시와 호날두도 올 시즌엔 아직 이 기록에 도달하지 못했다. 차세대 발롱도르 경쟁자로 평가받는 킬리안 음바페(파리생제르맹)와 엘링 홀란(보루시아도르트문트)도 마찬가지다.\n",
        "\n",
        "한국시간으로 4일 기준 리그에서 10골 10도움 이상 기록한 선수는 해리 케인(21골 13도움, 토트넘홋스퍼), 손흥민(16골, 10골, 토트넘홋스퍼) 브루노 페르난데스(16골 11도움, 맨체스터유나이티드), 로멜루 루카쿠(21골 10도움, 인테르밀란), 토마스 뮐러(10골 17도움, 바이에른뮌헨), 멤피스 더파이(19골 10도움, 올랭피크리옹), 이아고 아스파스(13골 11도움, 셀타비고), 마르코스 요렌테(12골 10도움, 아틀레티코마드리드)까지 8명이 전부다. \n",
        "\n",
        "토트넘만 유일하게 2명의 선수를 배출했다. 케인은 득점과 도움 모두 1위에 오른 유일한 선수다. 잉글랜드 프리미어리그 구단 소속 선수가 3명으로 가장 많다. 스페인 라리가 선수가 2명, 이어 세리에A, 분데스리가, 리그1 소속 선수가 1명씩 포함돼 있다.\n",
        "\n",
        "보통 득점이 압도적으로 많지만, 도움 숫자가 부족해 10골 10도움을 달성하지 못하는 경우가 많다.\n",
        "\n",
        "'''\n",
        "question = '10-10 기록한 선수 중 라리가 소속은 몇 명?'\n",
        "predict_answer(question, context)"
      ],
      "execution_count": null,
      "outputs": [
        {
          "output_type": "stream",
          "text": [
            "Context :\n",
            "\n",
            "10년 동안 유럽 축구계를 양분했던 메시와 호날두도 올 시즌엔 아직 이 기록에 도달하지 못했다. 차세대 발롱도르 경쟁자로 평가받는 킬리안 음바페(파리생제르맹)와 엘링 홀란(보루시아도르트문트)도 마찬가지다.\n",
            "\n",
            "한국시간으로 4일 기준 리그에서 10골 10도움 이상 기록한 선수는 해리 케인(21골 13도움, 토트넘홋스퍼), 손흥민(16골, 10골, 토트넘홋스퍼) 브루노 페르난데스(16골 11도움, 맨체스터유나이티드), 로멜루 루카쿠(21골 10도움, 인테르밀란), 토마스 뮐러(10골 17도움, 바이에른뮌헨), 멤피스 더파이(19골 10도움, 올랭피크리옹), 이아고 아스파스(13골 11도움, 셀타비고), 마르코스 요렌테(12골 10도움, 아틀레티코마드리드)까지 8명이 전부다. \n",
            "\n",
            "토트넘만 유일하게 2명의 선수를 배출했다. 케인은 득점과 도움 모두 1위에 오른 유일한 선수다. 잉글랜드 프리미어리그 구단 소속 선수가 3명으로 가장 많다. 스페인 라리가 선수가 2명, 이어 세리에A, 분데스리가, 리그1 소속 선수가 1명씩 포함돼 있다.\n",
            "\n",
            "보통 득점이 압도적으로 많지만, 도움 숫자가 부족해 10골 10도움을 달성하지 못하는 경우가 많다.\n",
            "\n",
            "\n",
            "\n",
            "Question : 10-10 기록한 선수 중 라리가 소속은 몇 명?\n",
            "\n",
            "Answer : 2명\n"
          ],
          "name": "stdout"
        }
      ]
    },
    {
      "cell_type": "code",
      "metadata": {
        "colab": {
          "base_uri": "https://localhost:8080/"
        },
        "id": "l6gL5u8Wf1-9",
        "outputId": "eae72dfe-3860-4116-f192-0a08bb4c298d"
      },
      "source": [
        "context = '''\n",
        "10년 동안 유럽 축구계를 양분했던 메시와 호날두도 올 시즌엔 아직 이 기록에 도달하지 못했다. 차세대 발롱도르 경쟁자로 평가받는 킬리안 음바페(파리생제르맹)와 엘링 홀란(보루시아도르트문트)도 마찬가지다.\n",
        "\n",
        "한국시간으로 4일 기준 리그에서 10골 10도움 이상 기록한 선수는 해리 케인(21골 13도움, 토트넘홋스퍼), 손흥민(16골, 10골, 토트넘홋스퍼) 브루노 페르난데스(16골 11도움, 맨체스터유나이티드), 로멜루 루카쿠(21골 10도움, 인테르밀란), 토마스 뮐러(10골 17도움, 바이에른뮌헨), 멤피스 더파이(19골 10도움, 올랭피크리옹), 이아고 아스파스(13골 11도움, 셀타비고), 마르코스 요렌테(12골 10도움, 아틀레티코마드리드)까지 8명이 전부다. \n",
        "\n",
        "토트넘만 유일하게 2명의 선수를 배출했다. 케인은 득점과 도움 모두 1위에 오른 유일한 선수다. 잉글랜드 프리미어리그 구단 소속 선수가 3명으로 가장 많다. 스페인 라리가 선수가 2명, 이어 세리에A, 분데스리가, 리그1 소속 선수가 1명씩 포함돼 있다.\n",
        "\n",
        "보통 득점이 압도적으로 많지만, 도움 숫자가 부족해 10골 10도움을 달성하지 못하는 경우가 많다.\n",
        "\n",
        "'''\n",
        "question = '라리가 소속은 몇 명?'\n",
        "predict_answer(question, context)"
      ],
      "execution_count": null,
      "outputs": [
        {
          "output_type": "stream",
          "text": [
            "Context :\n",
            "\n",
            "10년 동안 유럽 축구계를 양분했던 메시와 호날두도 올 시즌엔 아직 이 기록에 도달하지 못했다. 차세대 발롱도르 경쟁자로 평가받는 킬리안 음바페(파리생제르맹)와 엘링 홀란(보루시아도르트문트)도 마찬가지다.\n",
            "\n",
            "한국시간으로 4일 기준 리그에서 10골 10도움 이상 기록한 선수는 해리 케인(21골 13도움, 토트넘홋스퍼), 손흥민(16골, 10골, 토트넘홋스퍼) 브루노 페르난데스(16골 11도움, 맨체스터유나이티드), 로멜루 루카쿠(21골 10도움, 인테르밀란), 토마스 뮐러(10골 17도움, 바이에른뮌헨), 멤피스 더파이(19골 10도움, 올랭피크리옹), 이아고 아스파스(13골 11도움, 셀타비고), 마르코스 요렌테(12골 10도움, 아틀레티코마드리드)까지 8명이 전부다. \n",
            "\n",
            "토트넘만 유일하게 2명의 선수를 배출했다. 케인은 득점과 도움 모두 1위에 오른 유일한 선수다. 잉글랜드 프리미어리그 구단 소속 선수가 3명으로 가장 많다. 스페인 라리가 선수가 2명, 이어 세리에A, 분데스리가, 리그1 소속 선수가 1명씩 포함돼 있다.\n",
            "\n",
            "보통 득점이 압도적으로 많지만, 도움 숫자가 부족해 10골 10도움을 달성하지 못하는 경우가 많다.\n",
            "\n",
            "\n",
            "\n",
            "Question : 라리가 소속은 몇 명?\n",
            "\n",
            "Answer : 2명\n"
          ],
          "name": "stdout"
        }
      ]
    },
    {
      "cell_type": "code",
      "metadata": {
        "colab": {
          "base_uri": "https://localhost:8080/"
        },
        "id": "4E1FPI54e0SX",
        "outputId": "1db92960-501e-47e7-9698-252924fe6e49"
      },
      "source": [
        "context = '''\n",
        "보통 득점이 압도적으로 많지만, 도움 숫자가 부족해 10골 10도움을 달성하지 못하는 경우가 많다. 메시는 28골로 라리가 득점 선두지만 도움이 8개다. 로베르토 레반도프스키(바이에른뮌헨)도 36골로 분데스리가에서 득점은 가장 많지만 도움은 6개다. 홀란은 25득점을 기록했으나 도움은 4개다. 호날두 역시 세리에A 득점 랭킹 최상단에 올랐지만 도움은 2개뿐이다. 리그1 득점 선두 음바페도 25골을 넣었지만 도움이 7개다. 팀 동료 네이마르는 부상으로 리그 15경기만 출전했고 7골 5도움을 기록 중이다. \n",
        "\n",
        "메시는 남은 4경기에서, 레반도프스키는와 음바페는 남은 3경기에서 10골 10도움 이상 기록에 도전한다. 반면 호날두는 남은 4경기에서 도움 8개를 기록하기 어려워 보인다.\n",
        "\n",
        "'''\n",
        "question = '메시는 몇 골?'\n",
        "predict_answer(question, context)"
      ],
      "execution_count": null,
      "outputs": [
        {
          "output_type": "stream",
          "text": [
            "Context :\n",
            "\n",
            "보통 득점이 압도적으로 많지만, 도움 숫자가 부족해 10골 10도움을 달성하지 못하는 경우가 많다. 메시는 28골로 라리가 득점 선두지만 도움이 8개다. 로베르토 레반도프스키(바이에른뮌헨)도 36골로 분데스리가에서 득점은 가장 많지만 도움은 6개다. 홀란은 25득점을 기록했으나 도움은 4개다. 호날두 역시 세리에A 득점 랭킹 최상단에 올랐지만 도움은 2개뿐이다. 리그1 득점 선두 음바페도 25골을 넣었지만 도움이 7개다. 팀 동료 네이마르는 부상으로 리그 15경기만 출전했고 7골 5도움을 기록 중이다. \n",
            "\n",
            "메시는 남은 4경기에서, 레반도프스키는와 음바페는 남은 3경기에서 10골 10도움 이상 기록에 도전한다. 반면 호날두는 남은 4경기에서 도움 8개를 기록하기 어려워 보인다.\n",
            "\n",
            "\n",
            "\n",
            "Question : 메시는 몇 골?\n",
            "\n",
            "Answer : 28골\n"
          ],
          "name": "stdout"
        }
      ]
    },
    {
      "cell_type": "code",
      "metadata": {
        "id": "Xpj6_7PkQ6j7",
        "colab": {
          "base_uri": "https://localhost:8080/"
        },
        "outputId": "5c243fb4-7bc7-4e7e-d906-4fd95fd0bfb0"
      },
      "source": [
        "context = '''\n",
        "보통 득점이 압도적으로 많지만, 도움 숫자가 부족해 10골 10도움을 달성하지 못하는 경우가 많다. 메시는 28골로 라리가 득점 선두지만 도움이 8개다. 로베르토 레반도프스키(바이에른뮌헨)도 36골로 분데스리가에서 득점은 가장 많지만 도움은 6개다. 홀란은 25득점을 기록했으나 도움은 4개다. 호날두 역시 세리에A 득점 랭킹 최상단에 올랐지만 도움은 2개뿐이다. 리그1 득점 선두 음바페도 25골을 넣었지만 도움이 7개다. 팀 동료 네이마르는 부상으로 리그 15경기만 출전했고 7골 5도움을 기록 중이다. \n",
        "\n",
        "메시는 남은 4경기에서, 레반도프스키는와 음바페는 남은 3경기에서 10골 10도움 이상 기록에 도전한다. 반면 호날두는 남은 4경기에서 도움 8개를 기록하기 어려워 보인다.\n",
        "\n",
        "'''\n",
        "question = '메시의 도움은 몇 개?'\n",
        "predict_answer(question, context)"
      ],
      "execution_count": null,
      "outputs": [
        {
          "output_type": "stream",
          "text": [
            "Context :\n",
            "\n",
            "보통 득점이 압도적으로 많지만, 도움 숫자가 부족해 10골 10도움을 달성하지 못하는 경우가 많다. 메시는 28골로 라리가 득점 선두지만 도움이 8개다. 로베르토 레반도프스키(바이에른뮌헨)도 36골로 분데스리가에서 득점은 가장 많지만 도움은 6개다. 홀란은 25득점을 기록했으나 도움은 4개다. 호날두 역시 세리에A 득점 랭킹 최상단에 올랐지만 도움은 2개뿐이다. 리그1 득점 선두 음바페도 25골을 넣었지만 도움이 7개다. 팀 동료 네이마르는 부상으로 리그 15경기만 출전했고 7골 5도움을 기록 중이다. \n",
            "\n",
            "메시는 남은 4경기에서, 레반도프스키는와 음바페는 남은 3경기에서 10골 10도움 이상 기록에 도전한다. 반면 호날두는 남은 4경기에서 도움 8개를 기록하기 어려워 보인다.\n",
            "\n",
            "\n",
            "\n",
            "Question : 메시의 도움은 몇 개?\n",
            "\n",
            "Answer : 8개\n"
          ],
          "name": "stdout"
        }
      ]
    },
    {
      "cell_type": "code",
      "metadata": {
        "colab": {
          "base_uri": "https://localhost:8080/"
        },
        "id": "zubQaHnse6Bo",
        "outputId": "a347d9d4-f30e-4ee0-83f0-7b5e89629483"
      },
      "source": [
        "context = '''\n",
        "보통 득점이 압도적으로 많지만, 도움 숫자가 부족해 10골 10도움을 달성하지 못하는 경우가 많다. 메시는 28골로 라리가 득점 선두지만 도움이 8개다. 로베르토 레반도프스키(바이에른뮌헨)도 36골로 분데스리가에서 득점은 가장 많지만 도움은 6개다. 홀란은 25득점을 기록했으나 도움은 4개다. 호날두 역시 세리에A 득점 랭킹 최상단에 올랐지만 도움은 2개뿐이다. 리그1 득점 선두 음바페도 25골을 넣었지만 도움이 7개다. 팀 동료 네이마르는 부상으로 리그 15경기만 출전했고 7골 5도움을 기록 중이다. \n",
        "\n",
        "메시는 남은 4경기에서, 레반도프스키는와 음바페는 남은 3경기에서 10골 10도움 이상 기록에 도전한다. 반면 호날두는 남은 4경기에서 도움 8개를 기록하기 어려워 보인다.\n",
        "\n",
        "'''\n",
        "question = '메시의 득점 수는?'\n",
        "predict_answer(question, context)"
      ],
      "execution_count": null,
      "outputs": [
        {
          "output_type": "stream",
          "text": [
            "Context :\n",
            "\n",
            "보통 득점이 압도적으로 많지만, 도움 숫자가 부족해 10골 10도움을 달성하지 못하는 경우가 많다. 메시는 28골로 라리가 득점 선두지만 도움이 8개다. 로베르토 레반도프스키(바이에른뮌헨)도 36골로 분데스리가에서 득점은 가장 많지만 도움은 6개다. 홀란은 25득점을 기록했으나 도움은 4개다. 호날두 역시 세리에A 득점 랭킹 최상단에 올랐지만 도움은 2개뿐이다. 리그1 득점 선두 음바페도 25골을 넣었지만 도움이 7개다. 팀 동료 네이마르는 부상으로 리그 15경기만 출전했고 7골 5도움을 기록 중이다. \n",
            "\n",
            "메시는 남은 4경기에서, 레반도프스키는와 음바페는 남은 3경기에서 10골 10도움 이상 기록에 도전한다. 반면 호날두는 남은 4경기에서 도움 8개를 기록하기 어려워 보인다.\n",
            "\n",
            "\n",
            "\n",
            "Question : 메시의 득점 수는?\n",
            "\n",
            "Answer : 28골\n"
          ],
          "name": "stdout"
        }
      ]
    },
    {
      "cell_type": "code",
      "metadata": {
        "colab": {
          "base_uri": "https://localhost:8080/"
        },
        "id": "nXYMNCpghAw7",
        "outputId": "4edcbe57-27e7-4718-cfd7-cfee488dfb06"
      },
      "source": [
        "context = '''\n",
        "보통 득점이 압도적으로 많지만, 도움 숫자가 부족해 10골 10도움을 달성하지 못하는 경우가 많다. 메시는 28골로 라리가 득점 선두지만 도움이 8개다. 로베르토 레반도프스키(바이에른뮌헨)도 36골로 분데스리가에서 득점은 가장 많지만 도움은 6개다. 홀란은 25득점을 기록했으나 도움은 4개다. 호날두 역시 세리에A 득점 랭킹 최상단에 올랐지만 도움은 2개뿐이다. 리그1 득점 선두 음바페도 25골을 넣었지만 도움이 7개다. 팀 동료 네이마르는 부상으로 리그 15경기만 출전했고 7골 5도움을 기록 중이다. \n",
        "\n",
        "메시는 남은 4경기에서, 레반도프스키는와 음바페는 남은 3경기에서 10골 10도움 이상 기록에 도전한다. 반면 호날두는 남은 4경기에서 도움 8개를 기록하기 어려워 보인다.\n",
        "\n",
        "'''\n",
        "question = '호날두 4경기에서 도움?'\n",
        "predict_answer(question, context)"
      ],
      "execution_count": null,
      "outputs": [
        {
          "output_type": "stream",
          "text": [
            "Context :\n",
            "\n",
            "보통 득점이 압도적으로 많지만, 도움 숫자가 부족해 10골 10도움을 달성하지 못하는 경우가 많다. 메시는 28골로 라리가 득점 선두지만 도움이 8개다. 로베르토 레반도프스키(바이에른뮌헨)도 36골로 분데스리가에서 득점은 가장 많지만 도움은 6개다. 홀란은 25득점을 기록했으나 도움은 4개다. 호날두 역시 세리에A 득점 랭킹 최상단에 올랐지만 도움은 2개뿐이다. 리그1 득점 선두 음바페도 25골을 넣었지만 도움이 7개다. 팀 동료 네이마르는 부상으로 리그 15경기만 출전했고 7골 5도움을 기록 중이다. \n",
            "\n",
            "메시는 남은 4경기에서, 레반도프스키는와 음바페는 남은 3경기에서 10골 10도움 이상 기록에 도전한다. 반면 호날두는 남은 4경기에서 도움 8개를 기록하기 어려워 보인다.\n",
            "\n",
            "\n",
            "\n",
            "Question : 호날두 4경기에서 도움?\n",
            "\n",
            "Answer : 8개\n"
          ],
          "name": "stdout"
        }
      ]
    },
    {
      "cell_type": "code",
      "metadata": {
        "colab": {
          "base_uri": "https://localhost:8080/"
        },
        "id": "f0IiynxRhnel",
        "outputId": "b4f31e72-ed20-4d79-d4ee-d115458ff5a4"
      },
      "source": [
        "context = '''\n",
        "보통 득점이 압도적으로 많지만, 도움 숫자가 부족해 10골 10도움을 달성하지 못하는 경우가 많다. 메시는 28골로 라리가 득점 선두지만 도움이 8개다. 로베르토 레반도프스키(바이에른뮌헨)도 36골로 분데스리가에서 득점은 가장 많지만 도움은 6개다. 홀란은 25득점을 기록했으나 도움은 4개다. 호날두 역시 세리에A 득점 랭킹 최상단에 올랐지만 도움은 2개뿐이다. 리그1 득점 선두 음바페도 25골을 넣었지만 도움이 7개다. 팀 동료 네이마르는 부상으로 리그 15경기만 출전했고 7골 5도움을 기록 중이다. \n",
        "\n",
        "메시는 남은 4경기에서, 레반도프스키는와 음바페는 남은 3경기에서 10골 10도움 이상 기록에 도전한다. 반면 호날두는 남은 4경기에서 도움 8개를 기록하기 어려워 보인다.\n",
        "\n",
        "'''\n",
        "question = '호날두는 10골 10도움을 달성하기 위해 몇 경기에서 몇 개의 도움을 기록해야하는가?'\n",
        "predict_answer(question, context)"
      ],
      "execution_count": null,
      "outputs": [
        {
          "output_type": "stream",
          "text": [
            "Context :\n",
            "\n",
            "보통 득점이 압도적으로 많지만, 도움 숫자가 부족해 10골 10도움을 달성하지 못하는 경우가 많다. 메시는 28골로 라리가 득점 선두지만 도움이 8개다. 로베르토 레반도프스키(바이에른뮌헨)도 36골로 분데스리가에서 득점은 가장 많지만 도움은 6개다. 홀란은 25득점을 기록했으나 도움은 4개다. 호날두 역시 세리에A 득점 랭킹 최상단에 올랐지만 도움은 2개뿐이다. 리그1 득점 선두 음바페도 25골을 넣었지만 도움이 7개다. 팀 동료 네이마르는 부상으로 리그 15경기만 출전했고 7골 5도움을 기록 중이다. \n",
            "\n",
            "메시는 남은 4경기에서, 레반도프스키는와 음바페는 남은 3경기에서 10골 10도움 이상 기록에 도전한다. 반면 호날두는 남은 4경기에서 도움 8개를 기록하기 어려워 보인다.\n",
            "\n",
            "\n",
            "\n",
            "Question : 호날두는 10골 10도움을 달성하기 위해 몇 경기에서 몇 개의 도움을 기록해야하는가?\n",
            "\n",
            "Answer : 3경기에\n"
          ],
          "name": "stdout"
        }
      ]
    }
  ]
}